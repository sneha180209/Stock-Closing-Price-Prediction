{
 "cells": [
  {
   "cell_type": "code",
   "execution_count": 1,
   "metadata": {},
   "outputs": [
    {
     "ename": "ModuleNotFoundError",
     "evalue": "No module named 'fbprophet'",
     "output_type": "error",
     "traceback": [
      "\u001b[1;31m---------------------------------------------------------------------------\u001b[0m",
      "\u001b[1;31mModuleNotFoundError\u001b[0m                       Traceback (most recent call last)",
      "\u001b[1;32md:\\BU\\seventh\\Research Intern\\Stock-Closing-Price-Prediction\\stockcloseprediction_prophet.ipynb Cell 1\u001b[0m line \u001b[0;36m<cell line: 4>\u001b[1;34m()\u001b[0m\n\u001b[0;32m      <a href='vscode-notebook-cell:/d%3A/BU/seventh/Research%20Intern/Stock-Closing-Price-Prediction/stockcloseprediction_prophet.ipynb#W0sZmlsZQ%3D%3D?line=1'>2</a>\u001b[0m \u001b[39mimport\u001b[39;00m \u001b[39mnumpy\u001b[39;00m \u001b[39mas\u001b[39;00m \u001b[39mnp\u001b[39;00m\n\u001b[0;32m      <a href='vscode-notebook-cell:/d%3A/BU/seventh/Research%20Intern/Stock-Closing-Price-Prediction/stockcloseprediction_prophet.ipynb#W0sZmlsZQ%3D%3D?line=2'>3</a>\u001b[0m \u001b[39mimport\u001b[39;00m \u001b[39mmatplotlib\u001b[39;00m\u001b[39m.\u001b[39;00m\u001b[39mpyplot\u001b[39;00m \u001b[39mas\u001b[39;00m \u001b[39mplt\u001b[39;00m\n\u001b[1;32m----> <a href='vscode-notebook-cell:/d%3A/BU/seventh/Research%20Intern/Stock-Closing-Price-Prediction/stockcloseprediction_prophet.ipynb#W0sZmlsZQ%3D%3D?line=3'>4</a>\u001b[0m \u001b[39mfrom\u001b[39;00m \u001b[39mfbprophet\u001b[39;00m \u001b[39mimport\u001b[39;00m Prophet\n\u001b[0;32m      <a href='vscode-notebook-cell:/d%3A/BU/seventh/Research%20Intern/Stock-Closing-Price-Prediction/stockcloseprediction_prophet.ipynb#W0sZmlsZQ%3D%3D?line=4'>5</a>\u001b[0m \u001b[39mimport\u001b[39;00m \u001b[39mpandas_datareader\u001b[39;00m \u001b[39mas\u001b[39;00m \u001b[39mpdr\u001b[39;00m\n\u001b[0;32m      <a href='vscode-notebook-cell:/d%3A/BU/seventh/Research%20Intern/Stock-Closing-Price-Prediction/stockcloseprediction_prophet.ipynb#W0sZmlsZQ%3D%3D?line=6'>7</a>\u001b[0m \u001b[39m# API key for Tiingo\u001b[39;00m\n",
      "\u001b[1;31mModuleNotFoundError\u001b[0m: No module named 'fbprophet'"
     ]
    }
   ],
   "source": [
    "import pandas as pd\n",
    "import numpy as np\n",
    "import matplotlib.pyplot as plt\n",
    "from fbprophet import Prophet\n",
    "import pandas_datareader as pdr\n",
    "\n",
    "# API key for Tiingo\n",
    "key = \"30c0973b8a648106ae38faea9031b9a3924c7469\"\n",
    "\n",
    "# Getting the Disney (DIS) dataset\n",
    "df_dis = pdr.get_data_tiingo('DIS', api_key=key)\n",
    "\n",
    "# Save the dataset to a CSV file\n",
    "df_dis.to_csv('DIS.csv')\n",
    "\n",
    "# Read the data and parse the date column\n",
    "df_dis = pd.read_csv('DIS.csv', parse_dates=['date'])\n",
    "\n",
    "# Rename columns to match Prophet's requirements\n",
    "df_dis = df_dis[['date', 'adjClose']].rename(columns={'date': 'ds', 'adjClose': 'y'})\n",
    "\n",
    "# Initialize and train the Prophet model\n",
    "prophet_model = Prophet(daily_seasonality=True)  # You can adjust seasonality as needed\n",
    "prophet_model.fit(df_dis)\n",
    "\n",
    "# Create a dataframe for future predictions\n",
    "future = prophet_model.make_future_dataframe(periods=len(df_dis), freq='D')\n",
    "\n",
    "# Make predictions\n",
    "forecast = prophet_model.predict(future)\n",
    "\n",
    "# Visualize actual vs. predicted stock prices\n",
    "fig = prophet_model.plot(forecast, xlabel='Date', ylabel='Stock Price')\n",
    "\n",
    "# Show the plot\n",
    "plt.show()\n"
   ]
  },
  {
   "cell_type": "code",
   "execution_count": null,
   "metadata": {},
   "outputs": [],
   "source": []
  }
 ],
 "metadata": {
  "kernelspec": {
   "display_name": "Python 3",
   "language": "python",
   "name": "python3"
  },
  "language_info": {
   "codemirror_mode": {
    "name": "ipython",
    "version": 3
   },
   "file_extension": ".py",
   "mimetype": "text/x-python",
   "name": "python",
   "nbconvert_exporter": "python",
   "pygments_lexer": "ipython3",
   "version": "3.9.4"
  }
 },
 "nbformat": 4,
 "nbformat_minor": 2
}
