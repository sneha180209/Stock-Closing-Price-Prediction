{
 "cells": [
  {
   "cell_type": "code",
   "execution_count": 7,
   "metadata": {},
   "outputs": [
    {
     "name": "stderr",
     "output_type": "stream",
     "text": [
      "C:\\Users\\sneha\\AppData\\Local\\Temp\\ipykernel_15400\\3030834723.py:10: FutureWarning: In a future version of pandas all arguments of concat except for the argument 'objs' will be keyword-only.\n",
      "  df_dis = pdr.get_data_tiingo('DIS', api_key=key)\n"
     ]
    },
    {
     "name": "stdout",
     "output_type": "stream",
     "text": [
      "Mean Squared Error (MSE): 120.51292926335451\n"
     ]
    }
   ],
   "source": [
    "# Import libraries for Random Forest\n",
    "import pandas as pd\n",
    "import numpy as np\n",
    "from sklearn.preprocessing import MinMaxScaler\n",
    "from sklearn.ensemble import RandomForestRegressor\n",
    "from sklearn.metrics import mean_squared_error\n",
    "import pandas_datareader as pdr\n",
    "\n",
    "# Preprocess the data for Random Forest\n",
    "df_dis = pdr.get_data_tiingo('DIS', api_key=key)\n",
    "df_dis.to_csv('DIS.csv')\n",
    "df_dis = pd.read_csv('DIS.csv', parse_dates=['date'], index_col='date')\n",
    "\n",
    "# Splitting train and test set\n",
    "df_training_dis = df_dis[df_dis.index <= '2022-01-01'].copy()\n",
    "df_test_dis = df_dis[df_dis.index > '2022-01-01'].copy()\n",
    "\n",
    "training_data_dis = df_training_dis['adjClose'].values\n",
    "test_data_dis = df_test_dis['adjClose'].values\n",
    "\n",
    "# Train Random Forest model\n",
    "X_train_dis, y_train_dis = [], []\n",
    "X_test_dis, y_test_dis = [], []\n",
    "\n",
    "for i in range(60, len(training_data_dis)):\n",
    "    X_train_dis.append(training_data_dis[i-60:i])\n",
    "    y_train_dis.append(training_data_dis[i])\n",
    "\n",
    "for i in range(60, len(test_data_dis)):\n",
    "    X_test_dis.append(test_data_dis[i-60:i])\n",
    "    y_test_dis.append(test_data_dis[i])\n",
    "\n",
    "X_train_dis, y_train_dis = np.array(X_train_dis), np.array(y_train_dis)\n",
    "X_test_dis, y_test_dis = np.array(X_test_dis), np.array(y_test_dis)\n",
    "\n",
    "# Initialize and train the Random Forest model\n",
    "rf_regressor = RandomForestRegressor(n_estimators=100, random_state=0)\n",
    "rf_regressor.fit(X_train_dis, y_train_dis)\n",
    "\n",
    "# Predict using the Random Forest model\n",
    "y_pred_dis = rf_regressor.predict(X_test_dis)\n",
    "\n",
    "# Evaluate the model\n",
    "mse = mean_squared_error(y_test_dis, y_pred_dis)\n",
    "# r2 = r2_score(y_test_dis, y_pred_dis)\n",
    "\n",
    "print(f\"Mean Squared Error (MSE): {mse}\")\n",
    "# print(f\"R-squared (R2) Score: {r2}\")\n"
   ]
  }
 ],
 "metadata": {
  "kernelspec": {
   "display_name": "Python 3",
   "language": "python",
   "name": "python3"
  },
  "language_info": {
   "codemirror_mode": {
    "name": "ipython",
    "version": 3
   },
   "file_extension": ".py",
   "mimetype": "text/x-python",
   "name": "python",
   "nbconvert_exporter": "python",
   "pygments_lexer": "ipython3",
   "version": "3.9.4"
  }
 },
 "nbformat": 4,
 "nbformat_minor": 2
}
